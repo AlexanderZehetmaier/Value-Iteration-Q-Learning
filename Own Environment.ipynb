{
 "cells": [
  {
   "cell_type": "markdown",
   "metadata": {},
   "source": [
    "# Implimentation of the 4. SPML Assignment\n",
    "## Own Created Environment\n",
    "inspired by Denny Britz Tutorial\n",
    "## Table of Content\n",
    "* Libraries\n",
    "* Environment\n",
    "* Value Iteration\n",
    "    * Algorithm\n",
    "    * Training V and Policy\n",
    "    * Graphical Representation\n",
    "    * Evaluation\n",
    "    \n",
    "    \n",
    "* Q-Learning\n",
    "    * Algorithm\n",
    "    * Training Q-Values\n",
    "    * Graphical Representation\n",
    "    * Evaluation"
   ]
  },
  {
   "cell_type": "markdown",
   "metadata": {},
   "source": [
    "If you do not have the PIL library and the graphics library remove the hashtags and run the cell below"
   ]
  },
  {
   "cell_type": "code",
   "execution_count": 1,
   "metadata": {},
   "outputs": [],
   "source": [
    "#!pip install http://bit.ly/csc161graphics\n",
    "#!pipenv install PIL"
   ]
  },
  {
   "cell_type": "markdown",
   "metadata": {},
   "source": [
    "## Libraries"
   ]
  },
  {
   "cell_type": "code",
   "execution_count": 1,
   "metadata": {},
   "outputs": [],
   "source": [
    "import numpy as np    # Linear Algebra\n",
    "from gridworld import GridworldEnv # provided from Denny Britz and modified\n",
    "from graphicsLib import GridDisp   # Graphical Interface self programmed\n",
    "import random         # Random values\n",
    "import time           # Timesteps\n",
    "%matplotlib inline\n",
    "import matplotlib.pyplot as plt"
   ]
  },
  {
   "cell_type": "markdown",
   "metadata": {},
   "source": [
    "## Environment"
   ]
  },
  {
   "cell_type": "code",
   "execution_count": 14,
   "metadata": {},
   "outputs": [
    {
     "name": "stdout",
     "output_type": "stream",
     "text": [
      "Display Setup\n"
     ]
    }
   ],
   "source": [
    "env = GridworldEnv(shape=[10, 10], obstacles=[(0,1),(1,1),(1,2), (2,3),(3,5),(6,3),(8,5),(3,9)])"
   ]
  },
  {
   "cell_type": "code",
   "execution_count": 3,
   "metadata": {},
   "outputs": [
    {
     "data": {
      "text/plain": [
       "100"
      ]
     },
     "execution_count": 3,
     "metadata": {},
     "output_type": "execute_result"
    }
   ],
   "source": [
    "env.nS"
   ]
  },
  {
   "cell_type": "markdown",
   "metadata": {},
   "source": [
    "## Value Iteration"
   ]
  },
  {
   "cell_type": "markdown",
   "metadata": {},
   "source": [
    "### Algorithm"
   ]
  },
  {
   "cell_type": "code",
   "execution_count": 4,
   "metadata": {},
   "outputs": [
    {
     "data": {
      "text/html": [
       "<img src=\"https://cdn-images-1.medium.com/max/1600/1*MsD6og8hCReDO24T8iZfNw.png\"/>"
      ],
      "text/plain": [
       "<IPython.core.display.Image object>"
      ]
     },
     "execution_count": 4,
     "metadata": {},
     "output_type": "execute_result"
    }
   ],
   "source": [
    "from IPython.display import Image\n",
    "from IPython.core.display import HTML \n",
    "Image(url= \"https://cdn-images-1.medium.com/max/1600/1*MsD6og8hCReDO24T8iZfNw.png\")"
   ]
  },
  {
   "cell_type": "markdown",
   "metadata": {},
   "source": [
    "1. Initialize V(s) and V(s') to different arbitary values. Otherwise the while loop below would not execute\n",
    "2. Initialize a policy arbitary where the row-size euqals the #states & the column-size equals the #actions\n",
    "3. Repeat 4-9 till difference of V(s) and V(s') is smaller than some small specific amount\n",
    "4. V(s) updates to be V(s')\n",
    "5. Go through all states and in every state look which action are available \n",
    "6. Make a list where all the q-values for the possible state, action pairs will be put in\n",
    "7. Put the q-values according to the bellman equations into the list created in step 4\n",
    "8. Update V(s') to be the maximum value from the q-value list\n",
    "9. One-hot-encoding the the action we take and reasing solution to policy array"
   ]
  },
  {
   "cell_type": "markdown",
   "metadata": {},
   "source": [
    "#### The Bellman Equation"
   ]
  },
  {
   "cell_type": "code",
   "execution_count": 5,
   "metadata": {},
   "outputs": [],
   "source": [
    "def bellman_equation(prob_nextState_reward_goal, gamma, V_old):\n",
    "    prob = prob_nextState_reward_goal[0][0]\n",
    "    nextState = prob_nextState_reward_goal[0][1]\n",
    "    reward = prob_nextState_reward_goal[0][2]\n",
    "    return reward + gamma*(prob*V_old[nextState])"
   ]
  },
  {
   "cell_type": "markdown",
   "metadata": {},
   "source": [
    "### Training V and Policy"
   ]
  },
  {
   "cell_type": "code",
   "execution_count": 6,
   "metadata": {},
   "outputs": [],
   "source": [
    "def value_iteration(env, theta=0.0001, discount_factor=1.0):\n",
    "    # 1. Initialize V(s) and V(s') to different arbitary values\n",
    "    V_new = np.zeros(env.nS)\n",
    "    V_old = np.ones(env.nS)\n",
    "    # 2. Initialize a policy arbitary where the row-size euqals the #states \n",
    "    # & the column-size equals the #actions\n",
    "    policy = np.zeros([env.nS, env.nA])\n",
    "    \n",
    "    # 3. Repeat 4-7 till difference of V(s) and V(s') is smaller\n",
    "    # than some small specific amount\n",
    "    while np.any(np.abs(V_new-V_old) > theta):\n",
    "        # 4. V(s) updates to be V(s')\n",
    "        V_old = np.copy(V_new)\n",
    "        # 5. Go through all states and in every state look \n",
    "        # which action are available \n",
    "        for state in env.states:\n",
    "            # 6. Make a list where all the q-values for \n",
    "            # the possible actions are put in\n",
    "            q_s_a = []   # Q(state, action)\n",
    "            for action in range(env.nA):\n",
    "                # 7. Put the q-values according to the bellman \n",
    "                # equations into the list created in step 4\n",
    "                prob_nextState_reward_goal = env.P[state][action]\n",
    "                q_s_a.append( bellman_equation(prob_nextState_reward_goal, discount_factor, V_old) )\n",
    "            # 8. Update V(s') to be the maximum value from the q-value list\n",
    "            V_new[state] = max(q_s_a)\n",
    "            # 9. One-hot-encoding the the action we take and \n",
    "            # reasing solution to policy array\n",
    "            policy[state]=0\n",
    "            policy[state, np.argmax(q_s_a)] = 1\n",
    "    return policy, V_new"
   ]
  },
  {
   "cell_type": "code",
   "execution_count": 7,
   "metadata": {},
   "outputs": [],
   "source": [
    "policy, V = value_iteration(env)"
   ]
  },
  {
   "cell_type": "code",
   "execution_count": 8,
   "metadata": {},
   "outputs": [
    {
     "data": {
      "text/plain": [
       "(100, 4)"
      ]
     },
     "execution_count": 8,
     "metadata": {},
     "output_type": "execute_result"
    }
   ],
   "source": [
    "policy.shape"
   ]
  },
  {
   "cell_type": "code",
   "execution_count": 9,
   "metadata": {},
   "outputs": [],
   "source": [
    "val = V.reshape(10, 10)"
   ]
  },
  {
   "cell_type": "code",
   "execution_count": 10,
   "metadata": {},
   "outputs": [
    {
     "data": {
      "text/plain": [
       "array([[ 0. , -0.1, -0.2, -0.3, -0.4, -0.5, -0.6, -0.7, -0.8, -0.9],\n",
       "       [ 0. ,  0. , -0.3, -0.4, -0.5, -0.6, -0.7, -0.8, -0.9, -1. ],\n",
       "       [-1.2,  0. , -0.4, -0.5, -0.6, -0.7, -0.8, -0.9, -1. , -1.1],\n",
       "       [-1.1, -1. ,  0. , -0.6, -0.7, -0.8,  0. , -1. , -1.1, -1.2],\n",
       "       [-1. , -0.9, -0.8, -0.7, -0.8, -0.9, -1. , -1.1, -1.2, -1.3],\n",
       "       [-1.1, -1. , -0.9,  0. , -0.9, -1. , -1.1, -1.2,  0. , -1.4],\n",
       "       [-1.2, -1.1, -1. , -1.1, -1. , -1.1, -1.2, -1.3, -1.4, -1.5],\n",
       "       [-1.3, -1.2, -1.1, -1.2, -1.1, -1.2, -1.3, -1.4, -1.5, -1.6],\n",
       "       [-1.4, -1.3, -1.2, -1.3, -1.2, -1.3, -1.4, -1.5, -1.6, -1.7],\n",
       "       [-1.5, -1.4, -1.3,  0. , -1.3, -1.4, -1.5, -1.6, -1.7, -1.8]])"
      ]
     },
     "execution_count": 10,
     "metadata": {},
     "output_type": "execute_result"
    }
   ],
   "source": [
    "val"
   ]
  },
  {
   "cell_type": "code",
   "execution_count": 26,
   "metadata": {},
   "outputs": [
    {
     "data": {
      "text/plain": [
       "array([['u', 'l', 'l', 'l', 'l', 'l', 'l', 'l', 'l', 'l'],\n",
       "       ['u', 'u', 'u', 'u', 'u', 'u', 'u', 'u', 'u', 'u'],\n",
       "       ['d', 'u', 'u', 'u', 'u', 'u', 'u', 'u', 'u', 'u'],\n",
       "       ['r', 'd', 'u', 'u', 'u', 'u', 'u', 'u', 'u', 'u'],\n",
       "       ['r', 'r', 'r', 'u', 'u', 'u', 'l', 'u', 'u', 'u'],\n",
       "       ['u', 'u', 'u', 'u', 'u', 'u', 'u', 'u', 'u', 'u'],\n",
       "       ['u', 'u', 'u', 'r', 'u', 'u', 'u', 'u', 'l', 'u'],\n",
       "       ['u', 'u', 'u', 'u', 'u', 'u', 'u', 'u', 'u', 'u'],\n",
       "       ['u', 'u', 'u', 'u', 'u', 'u', 'u', 'u', 'u', 'u'],\n",
       "       ['u', 'u', 'u', 'u', 'u', 'u', 'u', 'u', 'u', 'u']], dtype='<U1')"
      ]
     },
     "execution_count": 26,
     "metadata": {},
     "output_type": "execute_result"
    }
   ],
   "source": [
    "policy.shape\n",
    "p = []\n",
    "actionsD = {0:'u', 1:'r', 2:'d', 3:'l'}\n",
    "for i in policy:\n",
    "    p.append(actionsD[np.argmax(i)])\n",
    "pAsNp= np.asarray(p)\n",
    "pAsNp.reshape(env.shape)"
   ]
  },
  {
   "cell_type": "markdown",
   "metadata": {},
   "source": [
    "### Graphical Representation"
   ]
  },
  {
   "cell_type": "code",
   "execution_count": 15,
   "metadata": {},
   "outputs": [],
   "source": [
    "env._render(values=val)"
   ]
  },
  {
   "cell_type": "code",
   "execution_count": 13,
   "metadata": {},
   "outputs": [],
   "source": [
    "#env.close()"
   ]
  },
  {
   "cell_type": "markdown",
   "metadata": {},
   "source": [
    "### Evaluation"
   ]
  },
  {
   "cell_type": "code",
   "execution_count": 16,
   "metadata": {},
   "outputs": [],
   "source": [
    "worlds = {1:{'shape':[10,10],\n",
    "             'obstacles': [(0,1),(1,1),(1,2), (2,3),(3,5),(6,3),(8,5),(3,9),(4,4)],\n",
    "             'goals':[(0,0)]\n",
    "            }\n",
    "         ,\n",
    "          2:{'shape':[12,12],\n",
    "             'obstacles': [(0,1),(1,1),(1,2),(5,4),(5,6),(3,5),(6,3),(8,5),(3,9),(4,4), (11,11)],\n",
    "             'goals':[(5,5)]\n",
    "            }\n",
    "          ,\n",
    "          3:{'shape':[5,5],\n",
    "             'obstacles': [(2,2)],\n",
    "             'goals':[(2,1)]\n",
    "            }\n",
    "         }"
   ]
  },
  {
   "cell_type": "code",
   "execution_count": 17,
   "metadata": {},
   "outputs": [],
   "source": [
    "testCases = [\n",
    "     (1,1,-0.1,1,1),\n",
    "     (2,1,0,1,1),\n",
    "     (3,1,-0.1,1,1),\n",
    "     (4,1,-1,0.9,1),\n",
    "     (5,1,-1,0.1,1),\n",
    "     (6,2,-1,1,1),\n",
    "     (7,3,-1,1,1),\n",
    "     (8,1,-1,1,0.5),\n",
    "     (9,1,-1,1,0.25),\n",
    "]"
   ]
  },
  {
   "cell_type": "code",
   "execution_count": 18,
   "metadata": {},
   "outputs": [],
   "source": [
    "def testEnv(case):\n",
    "    trialNum, worldNum, sp, df, tp = case\n",
    "    world = worlds[worldNum]\n",
    "    env = GridworldEnv(shape=world['shape'], obstacles=world['obstacles'], goals=world['goals'], statePen=sp, transProb=tp, title=str(trialNum) + \"w\"+str(case))\n",
    "    policy, V = value_iteration(env,discount_factor=df)\n",
    "    val = V.reshape(world['shape'][1], world['shape'][0])\n",
    "    env._render(values=val,valIt=True)\n",
    "    time.sleep(3)\n",
    "    env.close()"
   ]
  },
  {
   "cell_type": "code",
   "execution_count": 19,
   "metadata": {},
   "outputs": [],
   "source": [
    "def test(cases):\n",
    "    for c in cases:\n",
    "        testEnv(c)\n",
    "        print(\"done\", c)"
   ]
  },
  {
   "cell_type": "code",
   "execution_count": 20,
   "metadata": {},
   "outputs": [
    {
     "name": "stdout",
     "output_type": "stream",
     "text": [
      "Display Setup\n",
      "done (1, 1, -0.1, 1, 1)\n",
      "Display Setup\n",
      "done (2, 1, 0, 1, 1)\n",
      "Display Setup\n",
      "done (3, 1, -0.1, 1, 1)\n",
      "Display Setup\n",
      "done (4, 1, -1, 0.9, 1)\n",
      "Display Setup\n",
      "done (5, 1, -1, 0.1, 1)\n",
      "Display Setup\n",
      "done (6, 2, -1, 1, 1)\n",
      "Display Setup\n",
      "done (7, 3, -1, 1, 1)\n",
      "Display Setup\n",
      "done (8, 1, -1, 1, 0.5)\n",
      "Display Setup\n",
      "done (9, 1, -1, 1, 0.25)\n"
     ]
    }
   ],
   "source": [
    "test(testCases)"
   ]
  },
  {
   "cell_type": "markdown",
   "metadata": {},
   "source": [
    "## Q-Learning\n",
    "### Algorithm"
   ]
  },
  {
   "cell_type": "code",
   "execution_count": 27,
   "metadata": {},
   "outputs": [
    {
     "data": {
      "text/html": [
       "<img src=\"https://cdn-images-1.medium.com/max/1600/1*_CRZzhrq1KDI2yKYq5AREg.png\"/>"
      ],
      "text/plain": [
       "<IPython.core.display.Image object>"
      ]
     },
     "execution_count": 27,
     "metadata": {},
     "output_type": "execute_result"
    }
   ],
   "source": [
    "from IPython.display import Image\n",
    "from IPython.core.display import HTML \n",
    "Image(url= \"https://cdn-images-1.medium.com/max/1600/1*_CRZzhrq1KDI2yKYq5AREg.png\")"
   ]
  },
  {
   "cell_type": "markdown",
   "metadata": {},
   "source": [
    "1. Initialize Q-Table\n",
    "    * random\n",
    "    * or all zeros\n",
    "    * or domain knowledge initialization\n",
    "2. Explore vs Exploit Action\n",
    "    * select an action for current state s\n",
    "3. Execute selected Action -> Go to s'\n",
    "4. Selcet Action in s'\n",
    "    * action with highest q-value\n",
    "5. Update Q-Table according to the Bellman Equations\n",
    "    * $Q({\\small state}, {\\small action}) \\leftarrow (1 - \\alpha) Q({\\small state}, {\\small action}) + \\alpha \\Big({\\small reward} + \\gamma \\max_{a} Q({\\small next \\ state}, {\\small all \\ actions})\\Big)$\n",
    "6. Update the Current State to be the Next State\n",
    "7. If Goal-State -> New Episode"
   ]
  },
  {
   "cell_type": "markdown",
   "metadata": {},
   "source": [
    "### Training Q-Values"
   ]
  },
  {
   "cell_type": "code",
   "execution_count": 28,
   "metadata": {},
   "outputs": [],
   "source": [
    "# 1. Initialize Q-Table\n",
    "q_table = np.zeros([100, 4]) #100 states & 4 action per state"
   ]
  },
  {
   "cell_type": "code",
   "execution_count": 34,
   "metadata": {},
   "outputs": [],
   "source": [
    "# Rewards for Accumulated Reward Graph\n",
    "rewards = {}"
   ]
  },
  {
   "cell_type": "code",
   "execution_count": 35,
   "metadata": {},
   "outputs": [],
   "source": [
    "q_table = np.zeros([100, 4])\n",
    "def q_learning(env, q_table, epsilon=0.1, alpha=0.1, gamma=0.6):\n",
    "    for episode in range(1, 101):\n",
    "        state = env.reset()\n",
    "        done = False\n",
    "        acc=0\n",
    "        if episode%10 == 0:\n",
    "            rewards[episode]=([],[])\n",
    "        i=0\n",
    "        # 7. If Goal-State -> New Episode\n",
    "        while not done:\n",
    "            # 2. Explore vs Exploit Action\n",
    "            if random.uniform(0, 1) < epsilon:\n",
    "                action = random.randint(0, 3)\n",
    "            else:\n",
    "                action = np.argmax(q_table[state])\n",
    "            \n",
    "            # 3. Execute selected action -> Go to s'\n",
    "            next_state, reward, done, info = env.stepQ(action)\n",
    "            \n",
    "            if episode%10 == 0:\n",
    "                acc += reward\n",
    "                i+=1\n",
    "                rewards[episode][1].append(acc)\n",
    "                rewards[episode][0].append(i)\n",
    "            \n",
    "            # 4. Update Q-Table according to the Bellman Equations\n",
    "            max_next_action = np.max(q_table[next_state])\n",
    "            q_table[state][action] = q_table[state][action] + alpha*(reward + gamma*max_next_action-q_table[state][action])\n",
    "            # OR \n",
    "            # q_table[state][action] = (1-alpha)*q_table[state][action] + alpha*(reward+gamma*max_next_action)\n",
    "            #print(q_table[state])\n",
    "            # Update the Current State to be the Next State\n",
    "            state = next_state\n",
    "            #env._render(values=val)\n",
    "            #time.sleep(0.01)\n",
    "        \n",
    "        if episode%100 == 0:\n",
    "            print(str(episode) + ' Episode')"
   ]
  },
  {
   "cell_type": "code",
   "execution_count": 36,
   "metadata": {
    "scrolled": true
   },
   "outputs": [
    {
     "name": "stdout",
     "output_type": "stream",
     "text": [
      "100 Episode\n"
     ]
    }
   ],
   "source": [
    "q_learning(env, q_table)"
   ]
  },
  {
   "cell_type": "markdown",
   "metadata": {},
   "source": [
    "### Graphical Representation"
   ]
  },
  {
   "cell_type": "code",
   "execution_count": null,
   "metadata": {},
   "outputs": [],
   "source": [
    "for i in range(30):\n",
    "    state = env.reset()\n",
    "    done = False\n",
    "    while not done:\n",
    "        action = np.argmax(q_table[state])\n",
    "        next_state, reward, done, info = env.stepQ(action)\n",
    "        env._render(values=val)\n",
    "        state = next_state\n",
    "env.close()"
   ]
  },
  {
   "cell_type": "markdown",
   "metadata": {},
   "source": [
    "### Evaluation"
   ]
  },
  {
   "cell_type": "code",
   "execution_count": 37,
   "metadata": {},
   "outputs": [
    {
     "data": {
      "image/png": "[encoded data removed]",
      "text/plain": [
       "<Figure size 432x288 with 1 Axes>"
      ]
     },
     "metadata": {},
     "output_type": "display_data"
    }
   ],
   "source": [
    "for k in rewards:\n",
    "    plt.plot(rewards[k][0],rewards[k][1],label=str(k))\n",
    "plt.legend()\n",
    "plt.title(\"Cumulative Reward\")\n",
    "plt.xlabel(\"Number of Steps\")\n",
    "plt.ylabel(\"Accumulated Reward\")\n",
    "plt.savefig('accuRew')\n",
    "plt.show()"
   ]
  }
 ],
 "metadata": {
  "kernelspec": {
   "display_name": "Python 3",
   "language": "python",
   "name": "python3"
  },
  "language_info": {
   "codemirror_mode": {
    "name": "ipython",
    "version": 3
   },
   "file_extension": ".py",
   "mimetype": "text/x-python",
   "name": "python",
   "nbconvert_exporter": "python",
   "pygments_lexer": "ipython3",
   "version": "3.6.4"
  }
 },
 "nbformat": 4,
 "nbformat_minor": 2
}
